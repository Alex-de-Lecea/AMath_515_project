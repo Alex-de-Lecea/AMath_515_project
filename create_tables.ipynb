{
 "cells": [
  {
   "cell_type": "code",
   "execution_count": 13,
   "metadata": {},
   "outputs": [],
   "source": [
    "import numpy as np \n",
    "import matplotlib.pyplot as plt\n",
    "import os \n",
    "import pandas as pd"
   ]
  },
  {
   "cell_type": "code",
   "execution_count": 22,
   "metadata": {},
   "outputs": [
    {
     "name": "stdout",
     "output_type": "stream",
     "text": [
      "\\begin{tabular}{lrrrr}\n",
      "\\toprule\n",
      " & 0.01 & 0.001 & 0.0001 & 1e-05 \\\\\n",
      "Optimizer &  &  &  &  \\\\\n",
      "\\midrule\n",
      "Adagrad & 0.032 & 0.046 & 0.057 & 0.105 \\\\\n",
      "SGD & 0.104 & 0.107 & 0.107 & 0.107 \\\\\n",
      "SGD_momentum & 0.073 & 0.104 & 0.107 & 0.107 \\\\\n",
      "Adam & 0.019 & 0.021 & 0.043 & 0.053 \\\\\n",
      "Adam_beta0.5 & 0.023 & 0.022 & 0.043 & 0.053 \\\\\n",
      "RMSprop & 0.497 & 0.024 & 0.043 & 0.053 \\\\\n",
      "\\bottomrule\n",
      "\\end{tabular}\n",
      "\n"
     ]
    }
   ],
   "source": [
    "### MNIST ###\n",
    "SAVE_DIR = './train_results_MNIST/trial2/'\n",
    "lrs = [1e-2, 1e-3, 1e-4, 1e-5]\n",
    "optimizers = [\n",
    "    'Adagrad',\n",
    "    'SGD',\n",
    "    'SGD_momentum',\n",
    "    'Adam',\n",
    "    'Adam_beta0.5',\n",
    "    'RMSprop',\n",
    "]\n",
    "\n",
    "val_losses = np.load(SAVE_DIR+'val_losses.npy', allow_pickle=True).item()\n",
    "\n",
    "# Create a list of dictionaries to represent the data\n",
    "data = []\n",
    "for optimizer in optimizers:\n",
    "    row = {'Optimizer': optimizer}\n",
    "    for lr in lrs:\n",
    "        key = f'{optimizer}_{lr}'\n",
    "        if key in val_losses:\n",
    "            row[str(lr)] = val_losses[key]\n",
    "    data.append(row)\n",
    "\n",
    "# Create the DataFrame\n",
    "df = pd.DataFrame(data)\n",
    "\n",
    "# Set the index to be the 'Optimizer' column\n",
    "df.set_index('Optimizer', inplace=True)\n",
    "\n",
    "latex_code = df.to_latex(float_format = \"%.3f\")\n",
    "print(latex_code)\n",
    "\n"
   ]
  },
  {
   "cell_type": "code",
   "execution_count": null,
   "metadata": {},
   "outputs": [],
   "source": []
  }
 ],
 "metadata": {
  "kernelspec": {
   "display_name": "torch",
   "language": "python",
   "name": "python3"
  },
  "language_info": {
   "codemirror_mode": {
    "name": "ipython",
    "version": 3
   },
   "file_extension": ".py",
   "mimetype": "text/x-python",
   "name": "python",
   "nbconvert_exporter": "python",
   "pygments_lexer": "ipython3",
   "version": "3.11.5"
  }
 },
 "nbformat": 4,
 "nbformat_minor": 2
}
